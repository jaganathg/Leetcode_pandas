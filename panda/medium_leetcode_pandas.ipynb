{
 "cells": [
  {
   "cell_type": "code",
   "execution_count": 1,
   "metadata": {},
   "outputs": [
    {
     "name": "stdout",
     "output_type": "stream",
     "text": [
      "2.2.2\n"
     ]
    }
   ],
   "source": [
    "import pandas as pd\n",
    "print(pd.__version__)"
   ]
  },
  {
   "cell_type": "markdown",
   "metadata": {},
   "source": [
    "1934. Confirmation Rate"
   ]
  },
  {
   "cell_type": "code",
   "execution_count": 3,
   "metadata": {},
   "outputs": [
    {
     "name": "stdout",
     "output_type": "stream",
     "text": [
      "   user_id  confirmation_rate\n",
      "0        3                0.0\n",
      "1        7                1.0\n",
      "2        2                0.5\n",
      "3        6                0.0\n"
     ]
    },
    {
     "name": "stderr",
     "output_type": "stream",
     "text": [
      "/var/folders/tx/l3hyj_d52yb7p1qrtffht6zc0000gn/T/ipykernel_18211/3266944698.py:13: DeprecationWarning: DataFrameGroupBy.apply operated on the grouping columns. This behavior is deprecated, and in a future version of pandas the grouping columns will be excluded from the operation. Either pass `include_groups=False` to exclude the groupings or explicitly select the grouping columns after groupby to silence this warning.\n",
      "  confirmation_rate = merge_df.groupby('user_id').apply(\n"
     ]
    }
   ],
   "source": [
    "import pandas as pd\n",
    "import numpy as np\n",
    "\n",
    "data = [[3, '2020-03-21 10:16:13'], [7, '2020-01-04 13:57:59'], [2, '2020-07-29 23:09:44'], [6, '2020-12-09 10:39:37']]\n",
    "signups = pd.DataFrame(data, columns=['user_id', 'time_stamp']).astype({'user_id':'Int64', 'time_stamp':'datetime64[ns]'})\n",
    "data = [[3, '2021-01-06 03:30:46', 'timeout'], [3, '2021-07-14 14:00:00', 'timeout'], [7, '2021-06-12 11:57:29', 'confirmed'], [7, '2021-06-13 12:58:28', 'confirmed'], [7, '2021-06-14 13:59:27', 'confirmed'], [2, '2021-01-22 00:00:00', 'confirmed'], [2, '2021-02-28 23:59:59', 'timeout']]\n",
    "confirmations = pd.DataFrame(data, columns=['user_id', 'time_stamp', 'action']).astype({'user_id':'Int64', 'time_stamp':'datetime64[ns]', 'action':'object'})\n",
    "\n",
    "def confirmation_rate(signups: pd.DataFrame, confirmations: pd.DataFrame) -> pd.DataFrame:\n",
    "    \n",
    "    merge_df = signups.merge(confirmations, on='user_id', how='left')\n",
    "    \n",
    "    confirmation_rate = merge_df.groupby('user_id').apply(\n",
    "        lambda x: round(\n",
    "            np.sum(x['action'] == 'confirmed') / len(x['action']) if len(x['action']) > 0 else 0, 2)\n",
    "        ).reset_index(name='confirmation_rate')\n",
    "    \n",
    "    confirmation_rate = signups[['user_id']].merge(confirmation_rate, on='user_id', how='left').fillna(0)\n",
    "    \n",
    "    return confirmation_rate\n",
    "\n",
    "    \n",
    "    #######\n",
    "    \n",
    "    #alternate approach\n",
    "    \n",
    "    df = signups.merge(confirmations, how='left', on='user_id')[[\"user_id\", \"action\"]]\n",
    "    df[\"confirmation_rate\"] = df[\"action\"].apply(lambda x : 1 if x =='confirmed' else 0)\n",
    "    return df.groupby(\"user_id\")[\"confirmation_rate\"].mean().round(2).reset_index()\n",
    "\n",
    "print(confirmation_rate(signups, confirmations))"
   ]
  }
 ],
 "metadata": {
  "kernelspec": {
   "display_name": "my_project",
   "language": "python",
   "name": "my_project"
  },
  "language_info": {
   "codemirror_mode": {
    "name": "ipython",
    "version": 3
   },
   "file_extension": ".py",
   "mimetype": "text/x-python",
   "name": "python",
   "nbconvert_exporter": "python",
   "pygments_lexer": "ipython3",
   "version": "3.12.3"
  }
 },
 "nbformat": 4,
 "nbformat_minor": 2
}
